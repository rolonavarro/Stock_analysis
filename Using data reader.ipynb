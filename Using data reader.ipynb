{
 "cells": [
  {
   "cell_type": "code",
   "execution_count": 1,
   "metadata": {},
   "outputs": [
    {
     "name": "stderr",
     "output_type": "stream",
     "text": [
      "/Users/rolandonavarro/opt/anaconda3/lib/python3.7/site-packages/pandas_datareader/compat/__init__.py:7: FutureWarning: pandas.util.testing is deprecated. Use the functions in the public API at pandas.testing instead.\n",
      "  from pandas.util.testing import assert_frame_equal\n"
     ]
    }
   ],
   "source": [
    "import datetime as dt\n",
    "import matplotlib.pyplot as plt\n",
    "from matplotlib import style\n",
    "import pandas as pd\n",
    "import pandas_datareader.data as web"
   ]
  },
  {
   "cell_type": "code",
   "execution_count": 3,
   "metadata": {
    "scrolled": true
   },
   "outputs": [],
   "source": [
    "style.use('ggplot')\n",
    "\n",
    "start = dt.datetime(2017,1,1)\n",
    "end = dt.datetime(2020,4,7)\n",
    "\n",
    "# You can use web.DataReader to bring differnt information\n",
    "df = web.DataReader('TSLA', 'yahoo', start, end)\n",
    "df = pd.DataFrame(df)"
   ]
  },
  {
   "cell_type": "code",
   "execution_count": 4,
   "metadata": {},
   "outputs": [
    {
     "data": {
      "text/html": [
       "<div>\n",
       "<style scoped>\n",
       "    .dataframe tbody tr th:only-of-type {\n",
       "        vertical-align: middle;\n",
       "    }\n",
       "\n",
       "    .dataframe tbody tr th {\n",
       "        vertical-align: top;\n",
       "    }\n",
       "\n",
       "    .dataframe thead th {\n",
       "        text-align: right;\n",
       "    }\n",
       "</style>\n",
       "<table border=\"1\" class=\"dataframe\">\n",
       "  <thead>\n",
       "    <tr style=\"text-align: right;\">\n",
       "      <th></th>\n",
       "      <th>High</th>\n",
       "      <th>Low</th>\n",
       "      <th>Open</th>\n",
       "      <th>Close</th>\n",
       "      <th>Volume</th>\n",
       "      <th>Adj Close</th>\n",
       "    </tr>\n",
       "    <tr>\n",
       "      <th>Date</th>\n",
       "      <th></th>\n",
       "      <th></th>\n",
       "      <th></th>\n",
       "      <th></th>\n",
       "      <th></th>\n",
       "      <th></th>\n",
       "    </tr>\n",
       "  </thead>\n",
       "  <tbody>\n",
       "    <tr>\n",
       "      <th>2017-01-03</th>\n",
       "      <td>220.330002</td>\n",
       "      <td>210.960007</td>\n",
       "      <td>214.860001</td>\n",
       "      <td>216.990005</td>\n",
       "      <td>5923300</td>\n",
       "      <td>216.990005</td>\n",
       "    </tr>\n",
       "    <tr>\n",
       "      <th>2017-01-04</th>\n",
       "      <td>228.000000</td>\n",
       "      <td>214.309998</td>\n",
       "      <td>214.750000</td>\n",
       "      <td>226.990005</td>\n",
       "      <td>11213500</td>\n",
       "      <td>226.990005</td>\n",
       "    </tr>\n",
       "    <tr>\n",
       "      <th>2017-01-05</th>\n",
       "      <td>227.479996</td>\n",
       "      <td>221.949997</td>\n",
       "      <td>226.419998</td>\n",
       "      <td>226.750000</td>\n",
       "      <td>5911700</td>\n",
       "      <td>226.750000</td>\n",
       "    </tr>\n",
       "    <tr>\n",
       "      <th>2017-01-06</th>\n",
       "      <td>230.309998</td>\n",
       "      <td>225.449997</td>\n",
       "      <td>226.929993</td>\n",
       "      <td>229.009995</td>\n",
       "      <td>5527900</td>\n",
       "      <td>229.009995</td>\n",
       "    </tr>\n",
       "    <tr>\n",
       "      <th>2017-01-09</th>\n",
       "      <td>231.919998</td>\n",
       "      <td>228.000000</td>\n",
       "      <td>228.970001</td>\n",
       "      <td>231.279999</td>\n",
       "      <td>3979500</td>\n",
       "      <td>231.279999</td>\n",
       "    </tr>\n",
       "  </tbody>\n",
       "</table>\n",
       "</div>"
      ],
      "text/plain": [
       "                  High         Low        Open       Close    Volume  \\\n",
       "Date                                                                   \n",
       "2017-01-03  220.330002  210.960007  214.860001  216.990005   5923300   \n",
       "2017-01-04  228.000000  214.309998  214.750000  226.990005  11213500   \n",
       "2017-01-05  227.479996  221.949997  226.419998  226.750000   5911700   \n",
       "2017-01-06  230.309998  225.449997  226.929993  229.009995   5527900   \n",
       "2017-01-09  231.919998  228.000000  228.970001  231.279999   3979500   \n",
       "\n",
       "             Adj Close  \n",
       "Date                    \n",
       "2017-01-03  216.990005  \n",
       "2017-01-04  226.990005  \n",
       "2017-01-05  226.750000  \n",
       "2017-01-06  229.009995  \n",
       "2017-01-09  231.279999  "
      ]
     },
     "execution_count": 4,
     "metadata": {},
     "output_type": "execute_result"
    }
   ],
   "source": [
    "# You can convert this data to csv by doing\n",
    "# df.to_csv('tsla.csv')"
   ]
  },
  {
   "cell_type": "code",
   "execution_count": null,
   "metadata": {},
   "outputs": [],
   "source": []
  }
 ],
 "metadata": {
  "kernelspec": {
   "display_name": "Python 3",
   "language": "python",
   "name": "python3"
  },
  "language_info": {
   "codemirror_mode": {
    "name": "ipython",
    "version": 3
   },
   "file_extension": ".py",
   "mimetype": "text/x-python",
   "name": "python",
   "nbconvert_exporter": "python",
   "pygments_lexer": "ipython3",
   "version": "3.7.6"
  }
 },
 "nbformat": 4,
 "nbformat_minor": 4
}
